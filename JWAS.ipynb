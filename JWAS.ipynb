{
 "cells": [
  {
   "cell_type": "code",
   "execution_count": 1,
   "metadata": {
    "collapsed": false
   },
   "outputs": [],
   "source": [
    "type MarkerMatrix\n",
    "    X::Array{Float64,2}\n",
    "    xArray::Array{Array{Float64,1},1}\n",
    "    XpRinvX::Array{Float64,1}\n",
    "    markerMeans::Array{Float64,2}\n",
    "    mean2pq::Float64  \n",
    "    centered::Bool\n",
    "    function MarkerMatrix(X::Array{Float64,2})\n",
    "        markerMeans = center!(X) #centering\n",
    "        p           = markerMeans/2.0\n",
    "        mean2pq     = (2*p*(1-p)')[1,1]\n",
    "        xArray = get_column_ref(X)\n",
    "        XpRinvX = getXpRinvX(X)\n",
    "        new(X,xArray,XpRinvX,markerMeans,mean2pq,true)\n",
    "    end\n",
    "end"
   ]
  },
  {
   "cell_type": "code",
   "execution_count": null,
   "metadata": {
    "collapsed": true
   },
   "outputs": [],
   "source": [
    "m=MarkerMatrix()"
   ]
  },
  {
   "cell_type": "code",
   "execution_count": 3,
   "metadata": {
    "collapsed": false
   },
   "outputs": [
    {
     "data": {
      "text/plain": [
       "getXpRinvX (generic function with 1 method)"
      ]
     },
     "execution_count": 3,
     "metadata": {},
     "output_type": "execute_result"
    }
   ],
   "source": [
    "function get_column(X,j)\n",
    "    nrow,ncol = size(X)\n",
    "    if j>ncol||j<0\n",
    "        error(\"column number is wrong!\")\n",
    "    end\n",
    "    indx = 1 + (j-1)*nrow\n",
    "    ptr = pointer(X,indx)\n",
    "    pointer_to_array(ptr,nrow)\n",
    "end\n",
    "\n",
    "function get_column_ref(X)\n",
    "    ncol = size(X)[2]\n",
    "    xArray = Array(Array{Float64,1},ncol)\n",
    "    for i=1:ncol\n",
    "        xArray[i] = get_column(X,i)\n",
    "    end\n",
    "    return xArray\n",
    "end\n",
    "\n",
    "function center!(X)\n",
    "    nrow,ncol = size(X)\n",
    "    colMeans = mean(X,1)\n",
    "    BLAS.axpy!(-1,ones(nrow)*colMeans,X)\n",
    "    return colMeans\n",
    "end\n",
    "\n",
    "function getXpRinvX(X)\n",
    "    ncol = size(X)[2]\n",
    "    XpRinvX = [((X[:,i])'X[:,i])[1]::Float64 for i=1:ncol]\n",
    "    return XpRinvX\n",
    "end"
   ]
  },
  {
   "cell_type": "code",
   "execution_count": 4,
   "metadata": {
    "collapsed": false
   },
   "outputs": [
    {
     "data": {
      "text/plain": [
       "5x10 Array{Float64,2}:\n",
       "  0.58319   -0.323728   0.375674  …  -1.47162    0.0591578  0.100419\n",
       "  1.04847   -0.41908    0.168393     -1.1842    -0.0808352  0.254844\n",
       "  0.278464   0.292039   0.344062     -0.667329   1.61426    0.120778\n",
       " -2.13791   -0.920049  -0.954589     -0.732919   1.91075    0.428817\n",
       "  0.583479   1.01493   -0.069208     -0.209014  -0.283806   1.65456 "
      ]
     },
     "execution_count": 4,
     "metadata": {},
     "output_type": "execute_result"
    }
   ],
   "source": [
    "a=randn(5,10)"
   ]
  },
  {
   "cell_type": "code",
   "execution_count": 7,
   "metadata": {
    "collapsed": false
   },
   "outputs": [
    {
     "data": {
      "text/plain": [
       "10-element Array{Float64,1}:\n",
       "  0.84599\n",
       "  3.39994\n",
       " 13.3595 \n",
       "  8.7958 \n",
       " 10.2434 \n",
       "  3.51132\n",
       "  2.60163\n",
       "  7.6279 \n",
       "  9.21536\n",
       "  3.99036"
      ]
     },
     "execution_count": 7,
     "metadata": {},
     "output_type": "execute_result"
    }
   ],
   "source": [
    "X=copy(a)     \n",
    "markerMeans = center!(X) #centering\n",
    "        p           = markerMeans/2.0\n",
    "        mean2pq     = (2*p*(1-p)')[1,1]\n",
    "        xArray = get_column_ref(X)\n",
    "        XpRinvX = getXpRinvX(X)\n"
   ]
  },
  {
   "cell_type": "code",
   "execution_count": 5,
   "metadata": {
    "collapsed": false
   },
   "outputs": [
    {
     "data": {
      "text/plain": [
       "MarkerMatrix(5x10 Array{Float64,2}:\n",
       "  0.51205   -0.25255    0.402807   …  -0.618602  -0.584749  -0.411466 \n",
       "  0.977331  -0.347902   0.195527      -0.331181  -0.724741  -0.25704  \n",
       "  0.207324   0.363217   0.371196       0.185686   0.970354  -0.391107 \n",
       " -2.20905   -0.848871  -0.927456       0.120096   1.26685   -0.0830676\n",
       "  0.51234    1.08611   -0.0420743      0.644001  -0.927712   1.14268  ,[[0.5120504318116091,0.9773313713593385,0.20732372838538982,-2.2090451313593062,0.5123395998029686],[-0.25255003641602136,-0.34790188458188254,0.36321734481245604,-0.8488706592636441,1.086105235449092],[0.40280732810570696,0.19552671846544606,0.371195845361449,-0.9274556406365656,-0.04207425129603637],[-2.737881620787373,-0.44443090712487876,0.5272645043352661,0.5045196828191529,2.1505283407578326],[0.10589781829075032,0.4601224261876191,0.17174937085760042,0.5914852623945341,-1.329254877730504],[-0.2061978944165538,-1.1646262988820069,-0.502319150891037,1.3298534482834343,0.5432898959061633],[0.19649476404415414,-0.5976793356321949,0.20333471229056027,0.4905980079682569,-0.2927481486707766],[-0.6186019170912147,-0.33118098352846004,0.18568574987438402,0.12009570565172933,0.6440014450935612],[-0.5847485143659689,-0.724741490010151,0.9703543760529385,1.2668480456151745,-0.9277124172919928],[-0.4114655439002558,-0.2570401834319816,-0.391106601876327,-0.08306756818070427,1.142679897389269]],[6.40272764042172,2.2169500603905914,1.2002150047938296,12.850834712939623,2.369198186989771,3.714870621966385,0.7635636697333836,0.9559892131847983,4.274322967397168,1.700955492528134],1x10 Array{Float64,2}:\n",
       " 0.0711398  -0.0711782  -0.0271338  …  -0.853015  0.643906  0.511884,-1.1000737428257592,true)"
      ]
     },
     "execution_count": 5,
     "metadata": {},
     "output_type": "execute_result"
    }
   ],
   "source": [
    "MarkerMatrix(a)"
   ]
  },
  {
   "cell_type": "code",
   "execution_count": 12,
   "metadata": {
    "collapsed": false
   },
   "outputs": [
    {
     "data": {
      "text/plain": [
       "Bool"
      ]
     },
     "execution_count": 12,
     "metadata": {},
     "output_type": "execute_result"
    }
   ],
   "source": [
    "typeof(a)"
   ]
  },
  {
   "cell_type": "code",
   "execution_count": 8,
   "metadata": {
    "collapsed": false
   },
   "outputs": [],
   "source": [
    "type hao\n",
    "    speed::Float64\n",
    "end"
   ]
  },
  {
   "cell_type": "code",
   "execution_count": 15,
   "metadata": {
    "collapsed": false
   },
   "outputs": [
    {
     "data": {
      "text/plain": [
       "2-element Array{Any,1}:\n",
       " call{T}(::Type{T}, arg) at essentials.jl:56    \n",
       " call{T}(::Type{T}, args...) at essentials.jl:57"
      ]
     },
     "execution_count": 15,
     "metadata": {},
     "output_type": "execute_result"
    }
   ],
   "source": [
    "methods(Signed)"
   ]
  },
  {
   "cell_type": "code",
   "execution_count": 17,
   "metadata": {
    "collapsed": false
   },
   "outputs": [
    {
     "data": {
      "text/plain": [
       "JWAS"
      ]
     },
     "execution_count": 17,
     "metadata": {},
     "output_type": "execute_result"
    }
   ],
   "source": [
    "include(\"src/JWAS.jl\")"
   ]
  },
  {
   "cell_type": "code",
   "execution_count": 18,
   "metadata": {
    "collapsed": true
   },
   "outputs": [],
   "source": [
    "using JWAS"
   ]
  },
  {
   "cell_type": "code",
   "execution_count": 20,
   "metadata": {
    "collapsed": false
   },
   "outputs": [],
   "source": [
    "using(Distributions)\n",
    "d = Binomial(2,0.5)\n",
    "\n",
    "nObs     = 10\n",
    "nMarkers = 100\n",
    "X        = float(rand(d,(nObs,nMarkers)))\n",
    "α        = randn(nMarkers)\n",
    "a        = X*α\n",
    "stdGen   = std(a)\n",
    "a        = a/stdGen\n",
    "y        = a + randn(nObs);"
   ]
  },
  {
   "cell_type": "code",
   "execution_count": 21,
   "metadata": {
    "collapsed": false
   },
   "outputs": [
    {
     "name": "stderr",
     "output_type": "stream",
     "text": [
      "WARNING: imported binding for run overwritten in module JWAS\n"
     ]
    },
    {
     "name": "stdout",
     "output_type": "stream",
     "text": [
      "This is iteration 100, number of loci 0, vara 0.0, vare 0.5404901221698128\n",
      "This is iteration 200, number of loci 2, vara 0.18297887876090804, vare 0.5466295405439487\n",
      "This is iteration 300, number of loci 9, vara 1.0110326920086825, vare 0.28324694552241586\n",
      "This is iteration 400, number of loci 13, vara 0.43658368035756406, vare 1.243910791446036\n",
      "This is iteration 500, number of loci 24, vara 1.040367433835445, vare 0.6485584614726785\n",
      "This is iteration 600, number of loci 16, vara 0.12539624954599782, vare 0.30320621532691666\n",
      "This is iteration 700, number of loci 54, vara 1.0330473493431744, vare 1.0590426205094001\n",
      "This is iteration 800, number of loci 1, vara 1.6318089015045685, vare 0.5979360956974316\n",
      "This is iteration 900, number of loci 5, vara 0.09301259169011483, vare 0.946619633714233\n",
      "This is iteration 1000, number of loci 1, vara 0.16245699861366242, vare 0.8640385255354203\n",
      "This is iteration 1100, number of loci 52, vara 0.8527548761848736, vare 0.4253928159651683\n",
      "This is iteration 1200, number of loci 15, vara 0.6083784348298029, vare 0.3832048075562284\n",
      "This is iteration 1300, number of loci 5, vara 0.5140530207660804, vare 0.9799511319702072\n",
      "This is iteration 1400, number of loci 18, vara 0.7232181092523143, vare 0.10941938052349344\n",
      "This is iteration 1500, number of loci 85, vara 0.5427969534598936, vare 0.6129855809917116\n",
      "This is iteration 1600, number of loci 82, vara 1.9631186975740365, vare 0.7510723135678546\n",
      "This is iteration 1700, number of loci 47, vara 0.6029207771236413, vare 0.2359626161110152\n",
      "This is iteration 1800, number of loci 16, vara 0.4657580754348902, vare 0.5422688954724444\n",
      "This is iteration 1900, number of loci 16, vara 0.01917438223644457, vare 1.4497334699210145\n",
      "This is iteration 2000, number of loci 6, vara 0.5111001081781015, vare 2.855664064484576\n",
      "This is iteration 2100, number of loci 13, vara 1.3283331494669222, vare 0.6073058089929159\n",
      "This is iteration 2200, number of loci 40, vara 0.12590122889066047, vare 1.0151292470167095\n",
      "This is iteration 2300, number of loci 23, vara 1.5137802393664732, vare 0.2954030226607574\n",
      "This is iteration 2400, number of loci 6, vara 0.6175201564462158, vare 0.7949517985426914\n",
      "This is iteration 2500, number of loci 1, vara 0.08594850115489545, vare 0.7203180007633059\n",
      "This is iteration 2600, number of loci 4, vara 0.6876485819453417, vare 0.40193770105737076\n",
      "This is iteration 2700, number of loci 0, vara 0.0, vare 0.9881989142492652\n",
      "This is iteration 2800, number of loci 0, vara 0.0, vare 0.8568023996969328\n",
      "This is iteration 2900, number of loci 0, vara 0.0, vare 0.7490988709646335\n",
      "This is iteration 3000, number of loci 4, vara 0.5023608821880768, vare 0.6423226893299007\n",
      "This is iteration 3100, number of loci 1, vara 0.9275894538033198, vare 0.599868429442546\n",
      "This is iteration 3200, number of loci 1, vara 0.3969555619095942, vare 1.0620260310359513\n",
      "This is iteration 3300, number of loci 99, vara 1.1407429555962834, vare 0.4213728730149699\n",
      "This is iteration 3400, number of loci 7, vara 0.47656355760740726, vare 0.26261345993153606\n",
      "This is iteration 3500, number of loci 8, vara 0.8768613432410309, vare 1.192970883197943\n",
      "This is iteration 3600, number of loci 6, vara 0.35132777805949367, vare 0.33967553485271124\n",
      "This is iteration 3700, number of loci 57, vara 0.5189384243498419, vare 0.664813349355331\n",
      "This is iteration 3800, number of loci 52, vara 0.4597814956076052, vare 0.5098682123915455\n",
      "This is iteration 3900, number of loci 8, vara 1.2739438494497541, vare 0.6907085138311546\n",
      "This is iteration 4000, number of loci 12, vara 0.41210586420179474, vare 0.6884113614321563\n",
      "This is iteration 4100, number of loci 8, vara 0.5087331221925638, vare 0.4053132025066746\n",
      "This is iteration 4200, number of loci 7, vara 0.604778416849513, vare 0.6986896238763426\n",
      "This is iteration 4300, number of loci 6, vara 0.9702591603565948, vare 0.47923959608678807\n",
      "This is iteration 4400, number of loci 11, vara 0.6133205937021692, vare 1.6350243367655446\n",
      "This is iteration 4500, number of loci 22, vara 0.6043102362134307, vare 0.2248168778122865\n",
      "This is iteration 4600"
     ]
    },
    {
     "data": {
      "text/plain": [
       "Dict{Any,Any} with 7 entries:\n",
       "  \"posterior sample of ge… => [0.217815,0.484239,0.146367,0.650997,1.04043,0.36…\n",
       "  \"posterior mean of fixe… => [-0.413069904269796]\n",
       "  \"posterior mean of mark… => [-0.0120968,0.023964,0.000594045,0.00896536,-0.00…\n",
       "  \"posterior sample of pi\" => [0.965886,0.9536,0.934067,0.869616,0.879326,0.905…\n",
       "  \"posterior sample of re… => [0.608055,0.612593,0.439942,0.328555,0.398215,0.3…\n",
       "  \"posterior sample of sc… => [0.203768,0.132091,0.0339523,0.255402,0.137085,0.…\n",
       "  \"model frequency\"        => [0.193,0.201,0.1724,0.1844,0.196,0.1986,0.2002,0.…"
      ]
     },
     "execution_count": 21,
     "metadata": {},
     "output_type": "execute_result"
    },
    {
     "name": "stdout",
     "output_type": "stream",
     "text": [
      ", number of loci 2, vara 0.3727843059089751, vare 0.9187865138483945\n",
      "This is iteration 4700, number of loci 4, vara 0.655581122645697, vare 1.6511840556340718\n",
      "This is iteration 4800, number of loci 54, vara 1.2375437685702997, vare 0.43591078683133805\n",
      "This is iteration 4900, number of loci 67, vara 0.8464970573142764, vare 0.5165215770897236\n",
      "This is iteration 5000, number of loci 58, vara 0.22611717656182398, vare 0.7953725742456512\n"
     ]
    }
   ],
   "source": [
    "myOption=Dict()\n",
    "myOption[\"run\"]           = \"BayesC\"\n",
    "myOption[\"seed\"]          = 314\n",
    "myOption[\"chainLength\"]   = 5000\n",
    "myOption[\"probFixed\"]     = 0.95\n",
    "myOption[\"estimatePi\"]    = \"yes\"\n",
    "myOption[\"estimateScale\"] = \"yes\"\n",
    "myOption[\"varGenotypic\"]  = 1\n",
    "myOption[\"varResidual\"]   = 1\n",
    "\n",
    "output = runJWAS(myOption,X,y)"
   ]
  },
  {
   "cell_type": "code",
   "execution_count": 13,
   "metadata": {
    "collapsed": false
   },
   "outputs": [],
   "source": [
    "type OutputValues1\n",
    "    meanFxdEff::Float64 \n",
    "    meanMrkEff::Float64\n",
    "    mdlFrq::Float64\n",
    "    resVar::Float64\n",
    "    genVar::Float64\n",
    "    pi::Float64\n",
    "    scale::Float64\n",
    "`end"
   ]
  },
  {
   "cell_type": "code",
   "execution_count": 14,
   "metadata": {
    "collapsed": false
   },
   "outputs": [
    {
     "data": {
      "text/plain": [
       "OutputValues1(0.0,0.0,0.0,0.0,0.0,0.0,0.0)"
      ]
     },
     "execution_count": 14,
     "metadata": {},
     "output_type": "execute_result"
    }
   ],
   "source": [
    "a=OutputValues1()"
   ]
  },
  {
   "cell_type": "code",
   "execution_count": 8,
   "metadata": {
    "collapsed": false
   },
   "outputs": [
    {
     "data": {
      "text/plain": [
       "OutputValues"
      ]
     },
     "execution_count": 8,
     "metadata": {},
     "output_type": "execute_result"
    }
   ],
   "source": [
    "a"
   ]
  }
 ],
 "metadata": {
  "kernelspec": {
   "display_name": "Julia 0.4.0",
   "language": "julia",
   "name": "julia-0.4"
  },
  "language_info": {
   "file_extension": ".jl",
   "mimetype": "application/julia",
   "name": "julia",
   "version": "0.4.0"
  }
 },
 "nbformat": 4,
 "nbformat_minor": 0
}
